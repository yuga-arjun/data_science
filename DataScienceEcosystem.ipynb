{
 "cells": [
  {
   "cell_type": "markdown",
   "id": "c1011ded-c096-4d09-94d1-aceef6cd047f",
   "metadata": {},
   "source": [
    "#### Data Science Tools and Ecosystem\r\n"
   ]
  },
  {
   "cell_type": "markdown",
   "id": "53b81077-20c6-4aaf-ba10-dc7281aa221b",
   "metadata": {},
   "source": [
    "In this notebook, Data Science Tools and Ecosystem are summarized.\n"
   ]
  },
  {
   "cell_type": "markdown",
   "id": "10b1656f-c8d9-474d-8f78-845f940b6ea0",
   "metadata": {},
   "source": [
    "Some of the popular languages that Data Scientists use are:\r\n",
    "\r\n",
    "1. Python\r\n",
    "2. R\r\n",
    "3. SQL\r\n",
    "4. Julia\r\n",
    "5. Scala\r\n"
   ]
  },
  {
   "cell_type": "markdown",
   "id": "9fe892ca-2065-4011-b916-f9c4b5eb0127",
   "metadata": {},
   "source": [
    "Some of the commonly used libraries used by Data Scientists include:\r\n",
    "\r\n",
    "1. Pandas\r\n",
    "2. NumPy\r\n",
    "3. Matplotlib\r\n",
    "4. Scikit-learn\r\n",
    "5. TensorFlow\r\n"
   ]
  },
  {
   "cell_type": "markdown",
   "id": "3b3cc021-15a1-4e88-be11-dea05a3b9b17",
   "metadata": {},
   "source": [
    "| Data Science Tools |\r\n",
    "|--------------------|\r\n",
    "| Jupyter Notebook   |\r\n",
    "| RStudio            |\r\n",
    "| Apache Zeppelin    |\r\n"
   ]
  },
  {
   "cell_type": "markdown",
   "id": "77c6ae76-109b-4a77-8658-a1749b3d76ba",
   "metadata": {},
   "source": [
    "### Below are a few examples of evaluating arithmetic expressions in Python.\n"
   ]
  },
  {
   "cell_type": "code",
   "execution_count": 2,
   "id": "a9577f70-7fa0-4696-8edd-fe739d65b653",
   "metadata": {},
   "outputs": [
    {
     "data": {
      "text/plain": [
       "17"
      ]
     },
     "execution_count": 2,
     "metadata": {},
     "output_type": "execute_result"
    }
   ],
   "source": [
    "# This is a simple arithmetic expression to multiply then add integers.\n",
    "result = (3 * 4) + 5\n",
    "result\n"
   ]
  },
  {
   "cell_type": "code",
   "execution_count": 3,
   "id": "b553d616-126d-4d2d-8337-91d1c0f1f4c3",
   "metadata": {},
   "outputs": [
    {
     "data": {
      "text/plain": [
       "3.3333333333333335"
      ]
     },
     "execution_count": 3,
     "metadata": {},
     "output_type": "execute_result"
    }
   ],
   "source": [
    "# This will convert 200 minutes to hours by dividing by 60.\n",
    "minutes = 200\n",
    "hours = minutes / 60\n",
    "hours\n"
   ]
  },
  {
   "cell_type": "markdown",
   "id": "0bed7e4a-f6d8-49b3-8be5-aee504774760",
   "metadata": {},
   "source": [
    "**Objectives:**\n",
    "- List popular languages for Data Science.\n",
    "- Common libraries used in Data Science.\n",
    "- Explore tools and ecosystems in Data Science.\n",
    "- Evaluating arithmetic expressions in Python.\n"
   ]
  },
  {
   "cell_type": "markdown",
   "id": "e5b18f62-785a-4482-9684-c39967ed9e03",
   "metadata": {},
   "source": [
    "## Author\n",
    "Arjunagari Yugandhar\n"
   ]
  },
  {
   "cell_type": "code",
   "execution_count": null,
   "id": "1f317ef4-4764-405e-ad61-15678359ed57",
   "metadata": {},
   "outputs": [],
   "source": []
  }
 ],
 "metadata": {
  "kernelspec": {
   "display_name": "Python 3 (ipykernel)",
   "language": "python",
   "name": "python3"
  },
  "language_info": {
   "codemirror_mode": {
    "name": "ipython",
    "version": 3
   },
   "file_extension": ".py",
   "mimetype": "text/x-python",
   "name": "python",
   "nbconvert_exporter": "python",
   "pygments_lexer": "ipython3",
   "version": "3.11.7"
  }
 },
 "nbformat": 4,
 "nbformat_minor": 5
}
